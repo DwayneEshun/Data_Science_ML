{
 "cells": [
  {
   "cell_type": "code",
   "execution_count": 3,
   "id": "bec8303f-c763-4b34-95d4-4ebd93739bc4",
   "metadata": {},
   "outputs": [
    {
     "name": "stdout",
     "output_type": "stream",
     "text": [
      "Welcome each and everyone to eSkills4jobs: Data Science\n"
     ]
    }
   ],
   "source": [
    "print('Welcome each and everyone to eSkills4jobs: Data Science')"
   ]
  },
  {
   "cell_type": "markdown",
   "id": "e1992632-5c23-4f42-8c59-c2903507cd8f",
   "metadata": {},
   "source": [
    "# Python Commenting"
   ]
  },
  {
   "cell_type": "code",
   "execution_count": 25,
   "id": "b4936e4e-7e10-498b-803b-d8bc44b5e657",
   "metadata": {},
   "outputs": [
    {
     "name": "stdout",
     "output_type": "stream",
     "text": [
      "10\n",
      "34.67\n",
      "Collins\n"
     ]
    }
   ],
   "source": [
    "# Single - Line Commenting\n",
    "x = 10\n",
    "xyz = 34.67\n",
    "name = 'Collins'\n",
    "x\n",
    "xyz\n",
    "name"
   ]
  },
  {
   "cell_type": "code",
   "execution_count": 23,
   "id": "54a906dc-43e9-4181-93aa-0dee371bdef3",
   "metadata": {},
   "outputs": [
    {
     "data": {
      "text/plain": [
       "' Welcome everyone to eSkills4Jobs_DS\\nIf you havent registered, kindly check your email\\nAt this moment, you should recieve a link to join your class'"
      ]
     },
     "execution_count": 23,
     "metadata": {},
     "output_type": "execute_result"
    }
   ],
   "source": [
    "# Multi-Line Commenting\n",
    "\"\"\"Welcome everyone to eSkills4Jobs_DS\n",
    "If you havent registered, kindly check your email\n",
    "At this moment, you should recieve a link to join your class\"\"\"\n"
   ]
  },
  {
   "cell_type": "markdown",
   "id": "931d2ecd-9acc-440a-bd85-f75f09b4395f",
   "metadata": {},
   "source": [
    "# Python Variables"
   ]
  },
  {
   "cell_type": "code",
   "execution_count": 55,
   "id": "0b6aa460-bf5d-498c-8fed-f901a816450a",
   "metadata": {},
   "outputs": [
    {
     "data": {
      "text/plain": [
       "27"
      ]
     },
     "execution_count": 55,
     "metadata": {},
     "output_type": "execute_result"
    }
   ],
   "source": [
    "# Variable declaration: variable name, assignment operator and a value\n",
    "full_name = 'Collins K. Sarpong'   # This is a proper way to declare a variable in python\n",
    "full_name                         # display the value of the variable\n",
    "\n",
    "age1 = 30       # valid\n",
    "_age = 27      # valid\n",
    "_age\n",
    "#3age = 29      #not valid\n"
   ]
  },
  {
   "cell_type": "markdown",
   "id": "93b78459-2306-4df4-a16a-0ac3b1405ca2",
   "metadata": {},
   "source": [
    "# Python Multiple Assignments in one line"
   ]
  },
  {
   "cell_type": "code",
   "execution_count": 48,
   "id": "6a30cdd7-7550-4484-9681-92c8f62d0bbd",
   "metadata": {},
   "outputs": [
    {
     "name": "stdout",
     "output_type": "stream",
     "text": [
      "Collins , 28 , Bolgatanga\n"
     ]
    }
   ],
   "source": [
    "name, age, city = 'Collins', 28, 'Bolgatanga'\n",
    "print(name, age, city)\n"
   ]
  },
  {
   "cell_type": "markdown",
   "id": "c238eab6-027f-4091-ba83-a6f4dab24ea1",
   "metadata": {},
   "source": [
    "# Python Data Types"
   ]
  },
  {
   "cell_type": "code",
   "execution_count": 51,
   "id": "1e6b5e01-b2c4-4c15-b37a-c874e285e7ef",
   "metadata": {},
   "outputs": [
    {
     "name": "stdout",
     "output_type": "stream",
     "text": [
      "<class 'int'>\n",
      "<class 'float'>\n",
      "<class 'str'>\n"
     ]
    }
   ],
   "source": [
    "x = 10\n",
    "xyz = 34.67\n",
    "name = 'Collins' \n",
    "\n",
    "print(type(x))      # This belongs to the INTEGER class\n",
    "print(type(xyz))    # This belongs to the FLOATING POINT NUMBER class\n",
    "print(type(name))  # This belongs to the STRING class"
   ]
  },
  {
   "cell_type": "markdown",
   "id": "9905d5d5-4c3e-4079-8040-bc67eff74914",
   "metadata": {},
   "source": [
    "# BOOLEAN: it is an expression that evaluates to either True or False "
   ]
  },
  {
   "cell_type": "markdown",
   "id": "6ae6e9a8-bf85-4641-8cab-0bce21ca52a5",
   "metadata": {},
   "source": [
    "# Comparison Operators"
   ]
  },
  {
   "cell_type": "code",
   "execution_count": 70,
   "id": "087e644a-1c5f-44bc-9862-134b8a2c9f9d",
   "metadata": {},
   "outputs": [
    {
     "name": "stdout",
     "output_type": "stream",
     "text": [
      "False\n",
      "True\n",
      "False\n",
      "True\n",
      "False\n"
     ]
    }
   ],
   "source": [
    " # Comparison Operators: compares values and return True or False\n",
    "# Eg. \"\"\"\n",
    "# ==: Checks if two values are equal.\n",
    "# !=: Checks if two values are not equal.\n",
    "# >: Checks if the left value is greater than the right.\n",
    "# <: Checks if the left value is less than the right.\n",
    "# >=: Checks if the left value is greater than or equal to the right.\n",
    "# <=: Checks if the left value is less than or equal to the right. \"\"\"\n",
    "\n",
    "x = 10\n",
    "y = 20\n",
    "\n",
    "print( x == y)\n",
    "print( x != y)\n",
    "print( x > y)\n",
    "print( x < y)\n",
    "print( x >= y)"
   ]
  },
  {
   "cell_type": "code",
   "execution_count": 71,
   "id": "e77f6f18-5949-44cf-b481-f0c65780fd8c",
   "metadata": {},
   "outputs": [
    {
     "name": "stdout",
     "output_type": "stream",
     "text": [
      "False\n"
     ]
    }
   ],
   "source": [
    "a = 10\n",
    "b = 20\n",
    "\n",
    "result = (a > b) and ( b > 15 )\n",
    "print(result)"
   ]
  },
  {
   "cell_type": "markdown",
   "id": "455f31b7-57f2-4d84-a57e-6deb6ebdbb15",
   "metadata": {},
   "source": [
    "# Logical Operator: it combines multiple Boolean expressions"
   ]
  },
  {
   "cell_type": "code",
   "execution_count": 2,
   "id": "0de94920-45a6-4dbe-96a6-20fab5209dc1",
   "metadata": {},
   "outputs": [],
   "source": [
    "# and: Returns True if both expressions are True\n",
    "# or:  Returns True if at least one expression is true.\n",
    "# not: Negates (reverses) the Boolean value.\n",
    "\n",
    "a = True\n",
    "\n",
    "b = False"
   ]
  },
  {
   "cell_type": "code",
   "execution_count": null,
   "id": "b4969bb3-e41f-4dcd-abb5-fe3d7feb93a6",
   "metadata": {},
   "outputs": [],
   "source": []
  }
 ],
 "metadata": {
  "kernelspec": {
   "display_name": "Python 3 (ipykernel)",
   "language": "python",
   "name": "python3"
  },
  "language_info": {
   "codemirror_mode": {
    "name": "ipython",
    "version": 3
   },
   "file_extension": ".py",
   "mimetype": "text/x-python",
   "name": "python",
   "nbconvert_exporter": "python",
   "pygments_lexer": "ipython3",
   "version": "3.12.4"
  }
 },
 "nbformat": 4,
 "nbformat_minor": 5
}
