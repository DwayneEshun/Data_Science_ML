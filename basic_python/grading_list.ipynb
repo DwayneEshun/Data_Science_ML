{
 "cells": [
  {
   "cell_type": "code",
   "execution_count": null,
   "metadata": {},
   "outputs": [
    {
     "name": "stdout",
     "output_type": "stream",
     "text": [
      "Your grade is A+\n",
      "Your grade is A+\n",
      "Your grade is A+\n",
      "Your grade is A+\n"
     ]
    }
   ],
   "source": [
    "scores = []\n",
    "course_count = int(input(\"Enter number of courses: \"))\n",
    "for i in range(course_count):\n",
    "    score = float(input(\"Enter Score: \"))\n",
    "    scores.append(score)\n",
    "for marks in scores:\n",
    "    if marks > 100 or marks < 0:\n",
    "        print(\"Grade is invalid\")\n",
    "    elif marks >= 85:\n",
    "        print(\"Your grade is A+\")\n",
    "    elif marks >= 80:\n",
    "        print(\"Your grade is A\")\n",
    "    elif marks >= 75:\n",
    "        print(\"Your grade is B+\")\n",
    "    elif marks >= 70:\n",
    "        print(\"Your grade is B\")\n",
    "    elif marks >= 65:\n",
    "        print(\"Your grade is C+\")\n",
    "    elif marks >= 60:\n",
    "        print(\"Your grade is C\")\n",
    "    elif marks >= 55:\n",
    "        print(\"Your grade is D+\")\n",
    "    elif marks >= 50:\n",
    "        print(\"Your grade is D\")\n",
    "    else:\n",
    "        print(\"Fail\")\n",
    "\n",
    "    "
   ]
  },
  {
   "cell_type": "code",
   "execution_count": null,
   "metadata": {},
   "outputs": [],
   "source": []
  }
 ],
 "metadata": {
  "kernelspec": {
   "display_name": "Python 3",
   "language": "python",
   "name": "python3"
  },
  "language_info": {
   "codemirror_mode": {
    "name": "ipython",
    "version": 3
   },
   "file_extension": ".py",
   "mimetype": "text/x-python",
   "name": "python",
   "nbconvert_exporter": "python",
   "pygments_lexer": "ipython3",
   "version": "3.13.0"
  }
 },
 "nbformat": 4,
 "nbformat_minor": 2
}
