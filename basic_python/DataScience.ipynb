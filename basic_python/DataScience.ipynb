{
 "cells": [
  {
   "cell_type": "code",
   "execution_count": 2,
   "id": "1b645310-29cd-4c89-bd03-01dff54d318a",
   "metadata": {},
   "outputs": [
    {
     "name": "stdout",
     "output_type": "stream",
     "text": [
      "Hello1 5\n"
     ]
    }
   ],
   "source": [
    "a = 5\n",
    "b = \"Hello1\"\n",
    "print(b, a)"
   ]
  },
  {
   "cell_type": "code",
   "execution_count": 10,
   "id": "f126b120-a6c7-4fa9-a40c-63ed1e6c499d",
   "metadata": {},
   "outputs": [
    {
     "name": "stdout",
     "output_type": "stream",
     "text": [
      "Hello 5 Hello\n",
      "0\n"
     ]
    }
   ],
   "source": [
    "a = 5\n",
    "b = \"Hello\"\n",
    "print(b, a, b)\n",
    "print(a^a)"
   ]
  },
  {
   "cell_type": "code",
   "execution_count": 11,
   "id": "2777e960-02b5-40d9-8fbd-e7b5a080a344",
   "metadata": {},
   "outputs": [
    {
     "name": "stdout",
     "output_type": "stream",
     "text": [
      "Hello! world\n",
      "This is another paragraph\n"
     ]
    }
   ],
   "source": [
    "x = \"\"\"Hello! world\n",
    "This is another paragraph\"\"\"\n",
    "\n",
    "print(x)"
   ]
  },
  {
   "cell_type": "code",
   "execution_count": 1,
   "id": "ac73a42f-c316-441b-97de-54bde3a71cf9",
   "metadata": {},
   "outputs": [
    {
     "data": {
      "text/plain": [
       "True"
      ]
     },
     "execution_count": 1,
     "metadata": {},
     "output_type": "execute_result"
    }
   ],
   "source": [
    "\"Hello\".isalpha()"
   ]
  },
  {
   "cell_type": "code",
   "execution_count": 8,
   "id": "12f467ad-d727-4c52-9460-c4140b3f28db",
   "metadata": {},
   "outputs": [
    {
     "data": {
      "text/plain": [
       "True"
      ]
     },
     "execution_count": 8,
     "metadata": {},
     "output_type": "execute_result"
    }
   ],
   "source": [
    "\"12345\".isdigit()"
   ]
  },
  {
   "cell_type": "code",
   "execution_count": 9,
   "id": "53f6e517-be03-4cbb-b2e8-81bc75b5622a",
   "metadata": {},
   "outputs": [
    {
     "data": {
      "text/plain": [
       "True"
      ]
     },
     "execution_count": 9,
     "metadata": {},
     "output_type": "execute_result"
    }
   ],
   "source": [
    "\"123abc\".isalnum()"
   ]
  },
  {
   "cell_type": "code",
   "execution_count": 11,
   "id": "ba5898b5-a339-4e8b-99b9-3e2161ce3d80",
   "metadata": {},
   "outputs": [
    {
     "data": {
      "text/plain": [
       "True"
      ]
     },
     "execution_count": 11,
     "metadata": {},
     "output_type": "execute_result"
    }
   ],
   "source": [
    "\"hello\".startswith(\"he\")"
   ]
  },
  {
   "cell_type": "code",
   "execution_count": 12,
   "id": "99c47fd1-38de-4031-80eb-c19e073c7d1d",
   "metadata": {},
   "outputs": [
    {
     "data": {
      "text/plain": [
       "False"
      ]
     },
     "execution_count": 12,
     "metadata": {},
     "output_type": "execute_result"
    }
   ],
   "source": [
    "\"hello\".startswith(\"He\")"
   ]
  },
  {
   "cell_type": "code",
   "execution_count": 13,
   "id": "f50497fb-3f29-40a9-8bc5-f729f4c2cbef",
   "metadata": {},
   "outputs": [
    {
     "data": {
      "text/plain": [
       "True"
      ]
     },
     "execution_count": 13,
     "metadata": {},
     "output_type": "execute_result"
    }
   ],
   "source": [
    "\"banana\".endswith(\"na\")"
   ]
  },
  {
   "cell_type": "code",
   "execution_count": 14,
   "id": "d30b5ee3-0672-4928-b01d-ba2cbe8048ad",
   "metadata": {},
   "outputs": [
    {
     "data": {
      "text/plain": [
       "1"
      ]
     },
     "execution_count": 14,
     "metadata": {},
     "output_type": "execute_result"
    }
   ],
   "source": [
    "\"siuuuu\".count(\"s\")"
   ]
  },
  {
   "cell_type": "code",
   "execution_count": 16,
   "id": "cb106070-1e8a-4dc2-89ca-8f85040d170b",
   "metadata": {},
   "outputs": [
    {
     "data": {
      "text/plain": [
       "['apple', ' banana', ' orange']"
      ]
     },
     "execution_count": 16,
     "metadata": {},
     "output_type": "execute_result"
    }
   ],
   "source": [
    "\"apple, banana, orange\".split(\",\")"
   ]
  },
  {
   "cell_type": "code",
   "execution_count": 19,
   "id": "99945db7-04a7-413a-816a-58e190d0e674",
   "metadata": {},
   "outputs": [
    {
     "data": {
      "text/plain": [
       "('apple', 'banana', ['orange'])"
      ]
     },
     "execution_count": 19,
     "metadata": {},
     "output_type": "execute_result"
    }
   ],
   "source": [
    "\"apple\", \"banana\", \"orange\".split(\",\")"
   ]
  },
  {
   "cell_type": "code",
   "execution_count": 30,
   "id": "aba135d8-9523-46a3-9349-fbe3f59466bc",
   "metadata": {},
   "outputs": [
    {
     "name": "stdout",
     "output_type": "stream",
     "text": [
      "True\n",
      "False\n",
      "True\n",
      "2\n",
      "False\n"
     ]
    }
   ],
   "source": [
    "vari = 123453\n",
    "vari = str(vari)\n",
    "print(vari.isdigit())\n",
    "print(vari.isalpha())\n",
    "print(vari.isascii())\n",
    "print(vari.count(\"3\"))\n",
    "print(vari.endswith(\"s\"))"
   ]
  },
  {
   "cell_type": "code",
   "execution_count": null,
   "id": "b2d8ab32-d5b3-49b4-81ae-c325652e4962",
   "metadata": {},
   "outputs": [],
   "source": []
  }
 ],
 "metadata": {
  "kernelspec": {
   "display_name": "Python 3",
   "language": "python",
   "name": "python3"
  },
  "language_info": {
   "codemirror_mode": {
    "name": "ipython",
    "version": 3
   },
   "file_extension": ".py",
   "mimetype": "text/x-python",
   "name": "python",
   "nbconvert_exporter": "python",
   "pygments_lexer": "ipython3",
   "version": "3.13.0"
  }
 },
 "nbformat": 4,
 "nbformat_minor": 5
}
