{
 "cells": [
  {
   "cell_type": "markdown",
   "metadata": {},
   "source": [
    "Lists"
   ]
  },
  {
   "cell_type": "markdown",
   "metadata": {},
   "source": []
  },
  {
   "cell_type": "code",
   "execution_count": 6,
   "metadata": {},
   "outputs": [],
   "source": [
    "numbers = [1, 2, 3, 4, 5, 6, 7, 8, 9, 10]\n",
    "mixed = [1, 'Hello', 3.14, True]\n",
    "empty_list = []\n",
    "veggies = ['Tomato', 'Potato', 'Carrot', 'cucumber', ]"
   ]
  },
  {
   "cell_type": "code",
   "execution_count": 28,
   "metadata": {},
   "outputs": [
    {
     "name": "stdout",
     "output_type": "stream",
     "text": [
      "1\n",
      "15\n",
      "10\n",
      "8\n",
      "['Tomato', 'Potato', 'Carrot']\n",
      "[7, 8, 9, 10]\n",
      "[2, 15, 6, 8, 10]\n",
      "[1, 3, 5, 7, 9]\n"
     ]
    }
   ],
   "source": [
    "print(mixed[0])\n",
    "print(numbers[3])\n",
    "print(numbers[-1])\n",
    "print(numbers[-3])\n",
    "print(veggies[:3])\n",
    "print(numbers[-4:])\n",
    "print(numbers[1::2])\n",
    "print(numbers[0::2])"
   ]
  },
  {
   "cell_type": "code",
   "execution_count": 26,
   "metadata": {},
   "outputs": [
    {
     "name": "stdout",
     "output_type": "stream",
     "text": [
      "[2, 4, 6, 8, 10]\n",
      "[11, 13, 15, 17, 19]\n",
      "[1, 2, 3, 15, 5, 6, 7, 8, 9, 10]\n"
     ]
    }
   ],
   "source": [
    "even = [2, 4, 6, 8, 10, 12, 14, 16, 18, 20]\n",
    "odd = [1, 3, 5, 7, 9, 11, 13, 15, 17, 19]\n",
    "print(even[:5])\n",
    "print(odd[-5:])\n",
    "numbers[3] = 15\n",
    "print(numbers)"
   ]
  },
  {
   "cell_type": "code",
   "execution_count": 35,
   "metadata": {},
   "outputs": [],
   "source": [
    "\n",
    "veggies.append('curry')\n",
    "veggies.insert(2, 'curry')\n",
    "veggies.remove('curry')"
   ]
  },
  {
   "cell_type": "code",
   "execution_count": 61,
   "metadata": {},
   "outputs": [],
   "source": [
    "veggies.extend( ['cauliflower', 'garden pebbles'] )"
   ]
  },
  {
   "cell_type": "code",
   "execution_count": 62,
   "metadata": {},
   "outputs": [
    {
     "name": "stdout",
     "output_type": "stream",
     "text": [
      "['Tomato', 'Potato', 'Carrot', 'cucumber', 'curry', 'tomato', 'cauliflower', 'garden pebbles']\n"
     ]
    }
   ],
   "source": [
    "print(veggies)"
   ]
  },
  {
   "cell_type": "code",
   "execution_count": 63,
   "metadata": {},
   "outputs": [],
   "source": [
    "combined = even + odd"
   ]
  },
  {
   "cell_type": "code",
   "execution_count": 64,
   "metadata": {},
   "outputs": [
    {
     "name": "stdout",
     "output_type": "stream",
     "text": [
      "[2, 4, 6, 8, 10, 12, 14, 16, 18, 20, 1, 3, 5, 7, 9, 11, 13, 15, 17, 19]\n"
     ]
    }
   ],
   "source": [
    "print(combined)"
   ]
  },
  {
   "cell_type": "code",
   "execution_count": 81,
   "metadata": {},
   "outputs": [
    {
     "name": "stdout",
     "output_type": "stream",
     "text": [
      "[20, 19, 18, 17, 16, 15, 14, 13, 12, 11, 10, 9, 8, 7, 6, 5, 4, 3, 2, 1]\n"
     ]
    }
   ],
   "source": [
    "combined.sort(reverse=True)\n",
    "print(combined)"
   ]
  },
  {
   "cell_type": "code",
   "execution_count": 68,
   "metadata": {},
   "outputs": [
    {
     "name": "stdout",
     "output_type": "stream",
     "text": [
      "['Tomato', 'Potato', 'Carrot', 'cucumber', 'curry', 'tomato', 'cauliflower', 'garden pebbles', 'Tomato', 'Potato', 'Carrot', 'cucumber', 'curry', 'tomato', 'cauliflower', 'garden pebbles', 'Tomato', 'Potato', 'Carrot', 'cucumber', 'curry', 'tomato', 'cauliflower', 'garden pebbles', 'Tomato', 'Potato', 'Carrot', 'cucumber', 'curry', 'tomato', 'cauliflower', 'garden pebbles', 'Tomato', 'Potato', 'Carrot', 'cucumber', 'curry', 'tomato', 'cauliflower', 'garden pebbles']\n"
     ]
    }
   ],
   "source": [
    "veggies_iterated = veggies * 5\n",
    "print(veggies_iterated)"
   ]
  },
  {
   "cell_type": "code",
   "execution_count": 75,
   "metadata": {},
   "outputs": [
    {
     "name": "stdout",
     "output_type": "stream",
     "text": [
      "120\n"
     ]
    }
   ],
   "source": [
    "#a list of hourly data from hour 0 to hour 23\n",
    "\n",
    "hours = [0, 1, 2, 3, 4, 5, 6, 7, 8, 9, 10, 11, 12, 13, 14, 15, 16, 17, 18, 19, 20, 21, 22, 23]\n",
    "fivedays = hours * 5\n",
    "print(len(fivedays))"
   ]
  },
  {
   "cell_type": "code",
   "execution_count": 76,
   "metadata": {},
   "outputs": [
    {
     "data": {
      "text/plain": [
       "20"
      ]
     },
     "execution_count": 76,
     "metadata": {},
     "output_type": "execute_result"
    }
   ],
   "source": [
    "len(combined)"
   ]
  },
  {
   "cell_type": "markdown",
   "metadata": {},
   "source": [
    "SETS\n"
   ]
  },
  {
   "cell_type": "code",
   "execution_count": 87,
   "metadata": {},
   "outputs": [
    {
     "name": "stdout",
     "output_type": "stream",
     "text": [
      "{1, 2, 3, 4, 5, 6, 7, 8, 9, 10}\n",
      "{2}\n"
     ]
    }
   ],
   "source": [
    "my_numbers = {1, 2, 3, 4, 5, 6, 7, 8, 9, 10, 10}\n",
    "print(my_numbers)\n",
    "empty_set = set()\n",
    "empty_set.add(2)\n",
    "print(empty_set)"
   ]
  },
  {
   "cell_type": "code",
   "execution_count": 96,
   "metadata": {},
   "outputs": [
    {
     "name": "stdout",
     "output_type": "stream",
     "text": [
      "{1, 2, 3, 5, 6, 7, 9, 10}\n"
     ]
    }
   ],
   "source": [
    "my_numbers.add(4)\n",
    "my_numbers.discard(8)\n",
    "my_numbers.remove(4)\n",
    "print(my_numbers)"
   ]
  },
  {
   "cell_type": "code",
   "execution_count": 98,
   "metadata": {},
   "outputs": [
    {
     "name": "stdout",
     "output_type": "stream",
     "text": [
      "{1, 2, 3, 5, 6, 7, 9, 10}\n"
     ]
    }
   ],
   "source": [
    "my_numbers.discard(15)\n",
    "print(my_numbers)"
   ]
  },
  {
   "cell_type": "code",
   "execution_count": 102,
   "metadata": {},
   "outputs": [
    {
     "name": "stdout",
     "output_type": "stream",
     "text": [
      "{1, 2, 3, 4, 5}\n",
      "{3}\n",
      "{1, 2}\n"
     ]
    }
   ],
   "source": [
    "set1 = {1, 2, 3}\n",
    "set2 = {3, 4, 5}\n",
    "union_set = set1 | set2\n",
    "#union_set = set1.union(set2)\n",
    "print(union_set)\n",
    "\n",
    "intersection_set = set1 & set2\n",
    "#intersection_set = set1.intersection(set2)\n",
    "print(intersection_set)\n",
    "\n",
    "difference_set = set1 - set2\n",
    "#difference_set = set1.difference(set2)\n",
    "print(difference_set)\n"
   ]
  },
  {
   "cell_type": "code",
   "execution_count": null,
   "metadata": {},
   "outputs": [],
   "source": []
  },
  {
   "cell_type": "markdown",
   "metadata": {},
   "source": [
    "Dictionary"
   ]
  },
  {
   "cell_type": "code",
   "execution_count": 10,
   "metadata": {},
   "outputs": [],
   "source": [
    "grades = [90, 85, 88]\n",
    "student_info = {\n",
    "    'Name': 'John',\n",
    "    'Age': '23',\n",
    "    'Course': 'Data Science',\n",
    "    'Grades': grades}\n"
   ]
  },
  {
   "cell_type": "code",
   "execution_count": 15,
   "metadata": {},
   "outputs": [
    {
     "name": "stdout",
     "output_type": "stream",
     "text": [
      "John\n",
      "[90, 85, 88]\n"
     ]
    }
   ],
   "source": [
    "print(student_info['Name'])\n",
    "print(student_info['Grades'])\n"
   ]
  },
  {
   "cell_type": "code",
   "execution_count": 20,
   "metadata": {},
   "outputs": [
    {
     "name": "stdout",
     "output_type": "stream",
     "text": [
      "Name: John \n",
      "Age : 23\n"
     ]
    }
   ],
   "source": [
    "print(\"Name:\", student_info['Name'], \"\\nAge :\", student_info['Age'])"
   ]
  },
  {
   "cell_type": "code",
   "execution_count": 29,
   "metadata": {},
   "outputs": [
    {
     "name": "stdout",
     "output_type": "stream",
     "text": [
      "{'Name': 'John', 'Age': 30, 'Course': 'Data Science', 'Grades': [90, 85, 88], 'Year': 'Sophomore'}\n"
     ]
    }
   ],
   "source": [
    "#Adding items to a dictionary\n",
    "student_info[\"Year\"] = \"Sophomore\"\n",
    "student_info[\"Age\"] = 30\n",
    "del(student_info[\"age\"])\n",
    "print(student_info)"
   ]
  },
  {
   "cell_type": "code",
   "execution_count": 31,
   "metadata": {},
   "outputs": [
    {
     "data": {
      "text/plain": [
       "30"
      ]
     },
     "execution_count": 31,
     "metadata": {},
     "output_type": "execute_result"
    }
   ],
   "source": [
    "student_info.pop(\"Age\")"
   ]
  },
  {
   "cell_type": "code",
   "execution_count": 32,
   "metadata": {},
   "outputs": [
    {
     "name": "stdout",
     "output_type": "stream",
     "text": [
      "Name\n",
      "Course\n",
      "Grades\n",
      "Year\n"
     ]
    }
   ],
   "source": [
    "for key in student_info:\n",
    "    print(key)"
   ]
  },
  {
   "cell_type": "code",
   "execution_count": 33,
   "metadata": {},
   "outputs": [
    {
     "name": "stdout",
     "output_type": "stream",
     "text": [
      "John\n",
      "Data Science\n",
      "[90, 85, 88]\n",
      "Sophomore\n"
     ]
    }
   ],
   "source": [
    "for value in student_info.values():\n",
    "    print(value)"
   ]
  },
  {
   "cell_type": "code",
   "execution_count": 35,
   "metadata": {},
   "outputs": [
    {
     "name": "stdout",
     "output_type": "stream",
     "text": [
      "Name : John\n",
      "Course : Data Science\n",
      "Grades : [90, 85, 88]\n",
      "Year : Sophomore\n"
     ]
    }
   ],
   "source": [
    "for key, value in student_info.items():\n",
    "    print(key, \":\", value)"
   ]
  },
  {
   "cell_type": "markdown",
   "metadata": {},
   "source": [
    "# Tuples"
   ]
  },
  {
   "cell_type": "code",
   "execution_count": 36,
   "metadata": {},
   "outputs": [
    {
     "name": "stdout",
     "output_type": "stream",
     "text": [
      "(1, 2, 3, 'hello', 4.5, [5, 6], ('a', 'b'))\n"
     ]
    }
   ],
   "source": [
    "first_tuple = (1, 2, 3, 'hello', 4.5, [5, 6], ('a', 'b'))\n",
    "print(first_tuple)"
   ]
  },
  {
   "cell_type": "code",
   "execution_count": 39,
   "metadata": {},
   "outputs": [
    {
     "name": "stdout",
     "output_type": "stream",
     "text": [
      "2 hello\n"
     ]
    }
   ],
   "source": [
    "#print index 1 and 3\n",
    "print(first_tuple[1], first_tuple[3])"
   ]
  },
  {
   "cell_type": "code",
   "execution_count": 40,
   "metadata": {},
   "outputs": [
    {
     "name": "stdout",
     "output_type": "stream",
     "text": [
      "(1, 2, 3, 4, 5, 6)\n"
     ]
    }
   ],
   "source": [
    "tuple1 = (1, 2, 3)\n",
    "tuple2 = (4, 5, 6)\n",
    "concatenated = tuple1 + tuple2\n",
    "print(concatenated)"
   ]
  },
  {
   "cell_type": "code",
   "execution_count": 41,
   "metadata": {},
   "outputs": [
    {
     "name": "stdout",
     "output_type": "stream",
     "text": [
      "(1, 2, 3, 1, 2, 3, 1, 2, 3)\n"
     ]
    }
   ],
   "source": [
    "repeated = tuple1 * 3\n",
    "print(repeated)\n"
   ]
  },
  {
   "cell_type": "code",
   "execution_count": 44,
   "metadata": {},
   "outputs": [
    {
     "name": "stdout",
     "output_type": "stream",
     "text": [
      "1 2 3\n"
     ]
    }
   ],
   "source": [
    "a, b, c = (1, 2, 3)\n",
    "print(a, b, c)"
   ]
  },
  {
   "cell_type": "code",
   "execution_count": null,
   "metadata": {},
   "outputs": [],
   "source": []
  },
  {
   "cell_type": "markdown",
   "metadata": {},
   "source": [
    "# Exercise\n"
   ]
  },
  {
   "cell_type": "code",
   "execution_count": 1,
   "metadata": {},
   "outputs": [
    {
     "name": "stdout",
     "output_type": "stream",
     "text": [
      "odd numbers List:  [11, 13, 15, 17, 19, 21, 23, 25, 27, 29]\n",
      "Even numbers List:  [10, 12, 14, 16, 18, 20, 22, 24, 26, 28, 30]\n",
      "Numbers List:  [11, 13, 15, 17, 19, 21, 23, 25, 27, 29, 10, 12, 14, 16, 18, 20, 22, 24, 26, 28, 30]\n",
      "Descending:  [30, 28, 26, 24, 22, 20, 18, 16, 14, 12, 10, 29, 27, 25, 23, 21, 19, 17, 15, 13, 11]\n",
      "Ascending:  [10, 11, 12, 13, 14, 15, 16, 17, 18, 19, 20, 21, 22, 23, 24, 25, 26, 27, 28, 29, 30]\n",
      "Extended Ascending:  [10, 11, 12, 13, 14, 15, 16, 17, 18, 19, 20, 21, 22, 23, 24, 25, 26, 27, 28, 29, 30, 31, 32, 33, 34, 35, 36, 37, 38, 39, 40]\n",
      "Union Set: {1, 2, 3, 4, 5, 6, 7, 8, 9, 10}\n",
      "Intersection Set: {1, 2, 3, 7, 9, 10}\n",
      "Difference Set: {8, 4, 5, 6}\n",
      "Frank : {'Age': 21, 'Marital Status': 'Single', 'Occupation': 'Teacher'}\n",
      "Kofi : {'Age': 32, 'Marital Status': 'Married', 'Occupation': 'Engineer'}\n",
      "Adwoa : {'Age': 34, 'Marital Status': 'Married', 'Occupation': 'Engineer'}\n",
      "Ama : {'Age': 26, 'Marital Status': 'Single', 'Occupation': 'Programmer'}\n",
      "Emma : {'Age': 27, 'Marital Status': 'divorced', 'Occupation': 'uneployed'}\n"
     ]
    }
   ],
   "source": [
    "#1. Create a list of odd numbers betwwen 10 and 30\n",
    "\n",
    "numbers0 = list(range(10, 31))\n",
    "odd_numbers = numbers0[1::2]\n",
    "print(\"odd numbers List: \", odd_numbers)\n",
    "\n",
    "#2. Create a list of even numbers between 9 and 31\n",
    "numbers1 = list(range(9, 32))\n",
    "even_numbers = numbers1[1::2]\n",
    "print(\"Even numbers List: \",even_numbers)\n",
    "\n",
    "#3. Merge the lists above and call it numbers\n",
    "numbers = odd_numbers + even_numbers\n",
    "print(\"Numbers List: \", numbers)\n",
    "\n",
    "#4. Sort the list in ascending order and descending order\n",
    "\n",
    "numbers.reverse()\n",
    "descending = numbers\n",
    "print(\"Descending: \", descending)\n",
    "numbers.sort()\n",
    "ascending = numbers\n",
    "print(\"Ascending: \", ascending)\n",
    "\n",
    "#5 Extend the list to 40\n",
    "new_list = list(range(31, 41))\n",
    "ascending.extend(new_list)\n",
    "print(\"Extended Ascending: \", ascending)\n",
    "\n",
    "#6 Create new sets A and B\n",
    "setA = {1, 2, 3, 4, 5, 6, 7, 8, 9, 10}\n",
    "setB = {1, 2, 3, 7, 9, 10}\n",
    "\n",
    "#7 Find the union of A and B\n",
    "unionSet = setA.union(setB)\n",
    "print(\"Union Set:\", unionSet)\n",
    "intersectionSet = setA.intersection(setB)\n",
    "print(\"Intersection Set:\",intersectionSet)\n",
    "differenceSet = setA.difference(setB)\n",
    "print(\"Difference Set:\",differenceSet)\n",
    "\n",
    "#8 Dictionaries\n",
    "'''names = ['Frank', 'Kofi', 'Adwoa', 'Ama', 'Emma']\n",
    "ages = [21, 32, 34, 26, 27]\n",
    "marital = ['Single', 'Married', 'Married', 'Single', 'divorced']\n",
    "occupation = ['Teacher', 'Engineer', 'Engineer', 'Programmer', 'uneployed']\n",
    "\n",
    "# Create a dictionary with the above lists\n",
    "info = {'Names': names, 'Age': ages, 'Marital Status': marital, 'Occupation': occupation}\n",
    "\n",
    "# Iterate over the dictionary and print each key-value pair\n",
    "for key, value in info.items():\n",
    "    print(key,\":\", value)\n",
    "'''\n",
    "#table = {\n",
    "#    'Frank' : {\"Age\" : 21, \"Marital Status\" : \"Single\", \"Occupation\" : \"Teacher\"},\n",
    "#    'Kofi' : {\"Age\" : 32, \"Marital Status\" : \"Married\", \"Occupation\" : \"Engineer\"},\n",
    "#    'Adwoa' : {\"Age\" : 34, \"Marital Status\" : \"Married\", \"Occupation\" : \"Engineer\"},\n",
    "#    'Ama' : {\"Age\" : 26, \"Marital Status\" : \"Single\", \"Occupation\" : \"Programmer\"},\n",
    "#    'Emma' : {\"Age\" : 27, \"Marital Status\" : \"divorced\", \"Occupation\" : \"uneployed\"}\n",
    "#}\n",
    "#\n",
    "#for key, value in table.items():\n",
    "#    print(key,\":\", value)\n",
    "\n"
   ]
  },
  {
   "cell_type": "markdown",
   "metadata": {},
   "source": [
    "# PYTHON CONTROL FLOW\n"
   ]
  },
  {
   "cell_type": "markdown",
   "metadata": {},
   "source": [
    "# IF statements"
   ]
  },
  {
   "cell_type": "code",
   "execution_count": 15,
   "metadata": {},
   "outputs": [
    {
     "name": "stdout",
     "output_type": "stream",
     "text": [
      "4 is positive\n"
     ]
    }
   ],
   "source": [
    "x = int(input(\"Enter a number: \"))\n",
    "if x > 0:\n",
    "    print(f\"{x} is positive\")\n",
    "elif x < 0:\n",
    "    print(f\"{x} is negative\")\n",
    "else:\n",
    "    print(f\"{x} is zero\")"
   ]
  },
  {
   "cell_type": "code",
   "execution_count": 2,
   "metadata": {},
   "outputs": [
    {
     "name": "stdout",
     "output_type": "stream",
     "text": [
      "0\n",
      "1\n",
      "2\n",
      "3\n",
      "4\n",
      "5\n",
      "6\n",
      "7\n",
      "8\n",
      "9\n"
     ]
    }
   ],
   "source": [
    "#for loops\n",
    "\n",
    "for i in range(10):\n",
    "    print(i)"
   ]
  },
  {
   "cell_type": "code",
   "execution_count": 3,
   "metadata": {},
   "outputs": [
    {
     "name": "stdout",
     "output_type": "stream",
     "text": [
      "0\n",
      "1\n",
      "2\n",
      "3\n",
      "4\n",
      "5\n",
      "6\n",
      "7\n",
      "8\n",
      "9\n"
     ]
    }
   ],
   "source": [
    "#while loops\n",
    "i = 0\n",
    "while i < 10:\n",
    "    print(i)\n",
    "    i += 1"
   ]
  },
  {
   "cell_type": "code",
   "execution_count": 9,
   "metadata": {},
   "outputs": [
    {
     "name": "stdout",
     "output_type": "stream",
     "text": [
      "The number is zero\n",
      " 0.000\n"
     ]
    }
   ],
   "source": [
    "user = float(input(\"Enter a number: \"))\n",
    "if user > 0:\n",
    "    print(\"The number is positive\")\n",
    "\n",
    "elif user < 0:\n",
    "    print(\"The number is negative\")\n",
    "else:\n",
    "    print(\"The number is zero\")"
   ]
  },
  {
   "cell_type": "code",
   "execution_count": 14,
   "metadata": {},
   "outputs": [
    {
     "name": "stdout",
     "output_type": "stream",
     "text": [
      "0.0\n"
     ]
    }
   ],
   "source": [
    "sum = 10\n",
    "user = float(input(\"Enter a number: \"))\n",
    "if user > 0 or user < 0:\n",
    "    sum += user\n",
    "    print(sum)\n",
    "else:\n",
    "    sum *= user\n",
    "    print(sum)\n"
   ]
  },
  {
   "cell_type": "code",
   "execution_count": 23,
   "metadata": {},
   "outputs": [
    {
     "name": "stdout",
     "output_type": "stream",
     "text": [
      "The number is even\n"
     ]
    }
   ],
   "source": [
    "#Even or odd\n",
    "user = int(input(\"Enter a number: \"))\n",
    "if user % 2 == 0:\n",
    "    print(\"The number is even\")\n",
    "else:\n",
    "    print(\"The number is odd\")"
   ]
  },
  {
   "cell_type": "code",
   "execution_count": 2,
   "metadata": {},
   "outputs": [
    {
     "name": "stdout",
     "output_type": "stream",
     "text": [
      "The number is a prime number\n",
      "The number is not a prime number\n"
     ]
    }
   ],
   "source": [
    "user = int(input(\"Enter a number: \"))\n",
    "for i in range(2, user):\n",
    "    if user % i == 0:\n",
    "        print(\"The number is not a prime number\")\n",
    "        break\n",
    "    else:\n",
    "        print(\"The number is a prime number\")"
   ]
  },
  {
   "cell_type": "code",
   "execution_count": 26,
   "metadata": {},
   "outputs": [
    {
     "name": "stdout",
     "output_type": "stream",
     "text": [
      "Don't enter 0\n"
     ]
    }
   ],
   "source": [
    "user = int(input(\"Enter a number: \"))\n",
    "if user % 2 == 0 and user > 0:\n",
    "    print(\"The number is even\")\n",
    "elif user == 0:\n",
    "    print(\"Don't enter 0\")\n",
    "else:\n",
    "    print(\"The number is odd\")"
   ]
  },
  {
   "cell_type": "code",
   "execution_count": 29,
   "metadata": {},
   "outputs": [
    {
     "name": "stdout",
     "output_type": "stream",
     "text": [
      "The number 8 is even\n"
     ]
    }
   ],
   "source": [
    "user = int(input(\"Enter a number: \"))\n",
    "if user != 0:\n",
    "    if user % 2 == 0:\n",
    "        print(f\"The number {user} is even\")\n",
    "    else:\n",
    "        print(f\"The number {user} is odd\")\n",
    "else:\n",
    "    print(\"Don't enter 0\")"
   ]
  },
  {
   "cell_type": "code",
   "execution_count": 34,
   "metadata": {},
   "outputs": [
    {
     "name": "stdout",
     "output_type": "stream",
     "text": [
      "You are now eligible to vote\n",
      "be sure to vote wisely!\n"
     ]
    }
   ],
   "source": [
    "#voting eligibility check with age using nested if\n",
    "age = int(input(\"Enter your age: \"))\n",
    "if age >= 18:\n",
    "    if age == 18:\n",
    "        print(\"You are now eligible to vote\\nBe sure to vote wisely!\")\n",
    "    else:\n",
    "        print(\"You are eligible to vote\")\n",
    "else:\n",
    "    print(\"You are not eligible to vote\")"
   ]
  },
  {
   "cell_type": "code",
   "execution_count": 41,
   "metadata": {},
   "outputs": [
    {
     "name": "stdout",
     "output_type": "stream",
     "text": [
      "Your grade is C+\n"
     ]
    }
   ],
   "source": [
    "'''Grading system\n",
    "    85 and above == A+\n",
    "    80 and above == A\n",
    "    75 and above == B+\n",
    "    70 and above == B\n",
    "    65 and above == C+\n",
    "    60 and above == C\n",
    "    55 and above == D+\n",
    "    50 and above == D\n",
    "    below 50 == You have failed\n",
    "    \n",
    "'''\n",
    "\n",
    "marks = float(input(\"Enter your marks: \"))\n",
    "if marks > 100 or marks < 0:\n",
    "if marks >= 85:\n",
    "    print(\"Your grade is A+\")\n",
    "elif marks >= 80:\n",
    "    print(\"Your grade is A\")\n",
    "elif marks >= 75:\n",
    "    print(\"Your grade is B+\")\n",
    "elif marks >= 70:\n",
    "    print(\"Your grade is B\")\n",
    "elif marks >= 65:\n",
    "    print(\"Your grade is C+\")\n",
    "elif marks >= 60:\n",
    "    print(\"Your grade is C\")\n",
    "elif marks >= 55:\n",
    "    print(\"Your grade is D+\")\n",
    "elif marks >= 50:\n",
    "    print(\"Your grade is D\")\n",
    "else:\n",
    "    print(\"You have failed\")"
   ]
  },
  {
   "cell_type": "code",
   "execution_count": null,
   "metadata": {},
   "outputs": [
    {
     "name": "stdout",
     "output_type": "stream",
     "text": [
      "Your grade is A+\n"
     ]
    }
   ],
   "source": [
    "'''Grading system\n",
    "    85 and above == A+\n",
    "    80 and above == A\n",
    "    75 and above == B+\n",
    "    70 and above == B\n",
    "    65 and above == C+\n",
    "    60 and above == C\n",
    "    55 and above == D+\n",
    "    50 and above == D\n",
    "    below 50 == You have failed\n",
    "   using nested if \n",
    "'''\n",
    "\n",
    "marks = float(input(\"Enter your marks: \"))\n",
    "if marks > 100 or marks < 0:\n",
    "    print(\"Grade is invalid\")\n",
    "else:\n",
    "    if marks >= 85:\n",
    "        print(\"Your grade is A+\")\n",
    "    else:\n",
    "        if marks >= 80:\n",
    "            print(\"Your grade is A\")\n",
    "        else:\n",
    "            if marks >= 75:\n",
    "                print(\"Your grade is B+\")\n",
    "            else:\n",
    "                if marks >= 70:\n",
    "                    print(\"Your grade is B\")\n",
    "                else:\n",
    "                    if marks >= 65:\n",
    "                        print(\"Your grade is C+\")\n",
    "                    else:\n",
    "                        if marks >= 60:\n",
    "                            print(\"Your grade is C\")\n",
    "                        else:\n",
    "                            if marks >= 55:\n",
    "                                print(\"Your grade is D+\")\n",
    "                            else:\n",
    "                                if marks >= 50:\n",
    "                                    print(\"Your grade is D\")\n",
    "                                else:\n",
    "                                    print(\"You have failed\")"
   ]
  },
  {
   "cell_type": "code",
   "execution_count": 51,
   "metadata": {},
   "outputs": [
    {
     "name": "stdout",
     "output_type": "stream",
     "text": [
      "4 is not prime\n"
     ]
    }
   ],
   "source": [
    "number = int(input(\"Enter a number: \"))\n",
    "for i in range(2, number):\n",
    "    if i % 2 == 0:\n",
    "        print(f\"{number} is not prime\")\n",
    "        break\n",
    "    else:\n",
    "        print(f\"{number} is prime\")"
   ]
  },
  {
   "cell_type": "code",
   "execution_count": 1,
   "metadata": {},
   "outputs": [
    {
     "name": "stdout",
     "output_type": "stream",
     "text": [
      "1\n",
      "2\n",
      "3\n",
      "4\n",
      "5\n",
      "6\n",
      "7\n",
      "8\n",
      "9\n",
      "10\n"
     ]
    }
   ],
   "source": [
    "\n",
    "numbers = [1, 2, 3, 4, 5, 6, 7, 8, 9, 10]\n",
    "for i in numbers:\n",
    "    print(i)"
   ]
  },
  {
   "cell_type": "code",
   "execution_count": 5,
   "metadata": {},
   "outputs": [
    {
     "name": "stdout",
     "output_type": "stream",
     "text": [
      "1\n",
      "3\n",
      "6\n",
      "10\n",
      "15\n",
      "21\n",
      "28\n",
      "36\n",
      "45\n",
      "55\n",
      "55 is the sum of the numbers in the list\n"
     ]
    }
   ],
   "source": [
    "sum = 0\n",
    "for i in numbers:\n",
    "    sum += i\n",
    "    print(sum)\n",
    "print(f\"{sum} is the sum of the numbers in the list\")\n",
    "\n"
   ]
  },
  {
   "cell_type": "code",
   "execution_count": 8,
   "metadata": {},
   "outputs": [
    {
     "name": "stdout",
     "output_type": "stream",
     "text": [
      "3628800\n"
     ]
    }
   ],
   "source": [
    "product = numbers[0]\n",
    "for i in numbers:\n",
    "    product *= i\n",
    "print(product)"
   ]
  },
  {
   "cell_type": "code",
   "execution_count": 60,
   "metadata": {},
   "outputs": [
    {
     "name": "stdout",
     "output_type": "stream",
     "text": [
      "800\n",
      "1000\n",
      "1800\n",
      "880\n",
      "1000\n"
     ]
    }
   ],
   "source": [
    "salaries = [700, 800, 750, 1000, 500, 1800, 10000, 880, 950, 1000]\n",
    "#sum = 0\n",
    "#for i in salaries:\n",
    "#    sum += i\n",
    "#avg = sum / len(salaries)\n",
    "#print(avg)\n",
    "for i in range(1, len(salaries), 2):\n",
    "    print(salaries[i])\n"
   ]
  },
  {
   "cell_type": "markdown",
   "metadata": {},
   "source": [
    "# The Range Function"
   ]
  },
  {
   "cell_type": "code",
   "execution_count": 63,
   "metadata": {},
   "outputs": [
    {
     "name": "stdout",
     "output_type": "stream",
     "text": [
      "[673, 4, 4, 5, 5]\n"
     ]
    }
   ],
   "source": [
    "number = []\n",
    "for i in range(5):\n",
    "    number.append(int(input(\"Enter a number: \")))\n",
    "print(number)"
   ]
  },
  {
   "cell_type": "code",
   "execution_count": 72,
   "metadata": {},
   "outputs": [
    {
     "name": "stdout",
     "output_type": "stream",
     "text": [
      "[10.0, 20.0, 3.0, 67.0, 50.0, 60.0, 70.0, 80.0, 90.0, 100.0]\n",
      "550.0\n",
      "55.0\n"
     ]
    }
   ],
   "source": [
    "sal = []\n",
    "for i in range(10):\n",
    "    inter = float(input(\"What's Your Salary please?\"))\n",
    "    sal.append(inter)\n",
    "sumsal = 0\n",
    "for i in sal:\n",
    "    sumsal += i\n",
    "average = sumsal / len(sal)\n",
    "print(average)"
   ]
  },
  {
   "cell_type": "code",
   "execution_count": 74,
   "metadata": {},
   "outputs": [
    {
     "name": "stdout",
     "output_type": "stream",
     "text": [
      "4.7\n"
     ]
    }
   ],
   "source": [
    "sall = []\n",
    "while len(sall) < 10:\n",
    "    inter = float(input(\"What's Your Salary please?\"))\n",
    "    sall.append(inter)\n",
    "sumsall = 0\n",
    "for i in sall:\n",
    "    sumsall += i\n",
    "averages = sumsall / len(sall)\n",
    "print(averages)"
   ]
  },
  {
   "cell_type": "code",
   "execution_count": null,
   "metadata": {},
   "outputs": [],
   "source": []
  }
 ],
 "metadata": {
  "kernelspec": {
   "display_name": "Python 3",
   "language": "python",
   "name": "python3"
  },
  "language_info": {
   "codemirror_mode": {
    "name": "ipython",
    "version": 3
   },
   "file_extension": ".py",
   "mimetype": "text/x-python",
   "name": "python",
   "nbconvert_exporter": "python",
   "pygments_lexer": "ipython3",
   "version": "3.13.0"
  }
 },
 "nbformat": 4,
 "nbformat_minor": 2
}
