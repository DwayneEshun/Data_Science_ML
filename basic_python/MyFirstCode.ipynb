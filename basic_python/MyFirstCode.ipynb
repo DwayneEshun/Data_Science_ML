{
 "cells": [
  {
   "cell_type": "code",
   "execution_count": 3,
   "id": "d38629eb-bfbe-4528-9839-acb4f9f45a42",
   "metadata": {},
   "outputs": [
    {
     "data": {
      "text/plain": [
       "1988"
      ]
     },
     "execution_count": 3,
     "metadata": {},
     "output_type": "execute_result"
    }
   ],
   "source": [
    "age = 1988\n",
    "age"
   ]
  },
  {
   "cell_type": "code",
   "execution_count": 19,
   "id": "f057b104-e6c8-4e8f-8f68-e21589b559ff",
   "metadata": {},
   "outputs": [
    {
     "name": "stdout",
     "output_type": "stream",
     "text": [
      "<class 'str'>\n",
      "<class 'str'>\n",
      "<class 'int'>\n",
      "<class 'float'>\n"
     ]
    }
   ],
   "source": [
    "myName, hometown, myAge, myHeight = 'Dwayne', 'Kumasi', 1988, 175.9\n",
    "print(type(myName))\n",
    "print(type(hometown))\n",
    "print(type(myAge))\n",
    "print(type(myHeight))"
   ]
  },
  {
   "cell_type": "code",
   "execution_count": 21,
   "id": "914e70d4-59bf-45f3-b586-29352fecbfb6",
   "metadata": {},
   "outputs": [
    {
     "name": "stdout",
     "output_type": "stream",
     "text": [
      "False\n"
     ]
    }
   ],
   "source": [
    "print(type(myAge) is str)"
   ]
  },
  {
   "cell_type": "code",
   "execution_count": 35,
   "id": "802741cb-e5a2-484d-a48c-d4e8cb76077f",
   "metadata": {},
   "outputs": [
    {
     "name": "stdout",
     "output_type": "stream",
     "text": [
      "1755\n",
      "6\n",
      "1.1538461538461537\n",
      "2025\n"
     ]
    }
   ],
   "source": [
    "x = 45\n",
    "y = 39\n",
    "print(x*y)\n",
    "print(x-y)\n",
    "print(x/y)\n",
    "print(x**2)"
   ]
  },
  {
   "cell_type": "code",
   "execution_count": 28,
   "id": "893eaa39-6867-4752-b84b-7a5a57678e02",
   "metadata": {},
   "outputs": [
    {
     "name": "stdout",
     "output_type": "stream",
     "text": [
      "The sum = 84 and the product = 1755\n"
     ]
    }
   ],
   "source": [
    "print(\"The sum =\", x+y,\"and the product =\", x*y)"
   ]
  },
  {
   "cell_type": "code",
   "execution_count": 29,
   "id": "d7daef49-7c45-4632-ba2d-b15f48303121",
   "metadata": {},
   "outputs": [
    {
     "name": "stdout",
     "output_type": "stream",
     "text": [
      "The sum is84 and the product is 1755\n"
     ]
    }
   ],
   "source": [
    "print(f\"The sum is{x + y} and the product is {x * y}\")"
   ]
  },
  {
   "cell_type": "code",
   "execution_count": 39,
   "id": "15aab9ef-9592-4904-9b68-a6ff69366ca5",
   "metadata": {},
   "outputs": [
    {
     "name": "stdout",
     "output_type": "stream",
     "text": [
      "The area of the Triangle is 180.0\n"
     ]
    }
   ],
   "source": [
    "base = 15\n",
    "height = 24\n",
    "area = 0.5 * base * height\n",
    "print(\"The area of the Triangle is\", area)"
   ]
  },
  {
   "cell_type": "code",
   "execution_count": 42,
   "id": "c3e44def-b74a-487f-8acf-58e344067632",
   "metadata": {},
   "outputs": [
    {
     "name": "stdout",
     "output_type": "stream",
     "text": [
      "53021.25\n"
     ]
    }
   ],
   "source": [
    "pi = 3.142\n",
    "r = 25\n",
    "h = 27\n",
    "print(pi * (r**2) * h)"
   ]
  },
  {
   "cell_type": "code",
   "execution_count": 48,
   "id": "374b6290-0e08-4c1b-8332-5edd0f63e535",
   "metadata": {},
   "outputs": [
    {
     "name": "stdout",
     "output_type": "stream",
     "text": [
      "Enter the base:  3\n",
      "Enter the height:  4\n"
     ]
    },
    {
     "name": "stdout",
     "output_type": "stream",
     "text": [
      "The area is 6.0\n"
     ]
    }
   ],
   "source": [
    "base = float(input(\"Enter the base: \"))\n",
    "height = float(input(\"Enter the height: \"))\n",
    "area = 0.5 * base * height\n",
    "print(f\"The area is {area}\")"
   ]
  },
  {
   "cell_type": "code",
   "execution_count": null,
   "id": "832eb4f7-8d2d-425d-8ea2-baacad1293e9",
   "metadata": {},
   "outputs": [],
   "source": []
  },
  {
   "cell_type": "code",
   "execution_count": 9,
   "id": "39783da7",
   "metadata": {},
   "outputs": [
    {
     "name": "stdout",
     "output_type": "stream",
     "text": [
      "Kofi's Account balance in $ is  3425.00\n"
     ]
    }
   ],
   "source": [
    "#cedi to dollar\n",
    "cedi = 55500\n",
    "dollar = cedi // 16.20\n",
    "\n",
    "print(f\"Kofi's Account balance in $ is {dollar: .2f}\")"
   ]
  },
  {
   "cell_type": "code",
   "execution_count": 7,
   "id": "be8b2a6c",
   "metadata": {},
   "outputs": [
    {
     "name": "stdout",
     "output_type": "stream",
     "text": [
      "The temperature in Celcius is  37.778\n"
     ]
    }
   ],
   "source": [
    "#farenheit to celcius\n",
    "farenheit = float(input(\"Enter the temperature in Farenheit: \"))\n",
    "celcius = (farenheit - 32) * 5 / 9\n",
    "print(f\"The temperature in Celcius is {celcius: .3f}\")"
   ]
  },
  {
   "cell_type": "code",
   "execution_count": 6,
   "id": "ca1c7dbe",
   "metadata": {},
   "outputs": [
    {
     "name": "stdout",
     "output_type": "stream",
     "text": [
      "The volume of the sphere is 33514.667\n"
     ]
    }
   ],
   "source": [
    "#volume of a sphere\n",
    "\n",
    "r = float(input(\"Enter the radius of the sphere: \"))\n",
    "v = (4/3) * 3.142 * (r**3)\n",
    "print(f\"The volume of the sphere is {v:.3f}\")"
   ]
  },
  {
   "cell_type": "code",
   "execution_count": null,
   "id": "9aea1066",
   "metadata": {},
   "outputs": [],
   "source": []
  },
  {
   "cell_type": "code",
   "execution_count": null,
   "id": "cbe1de37",
   "metadata": {},
   "outputs": [],
   "source": [
    "#volume of a hemisphere\n",
    "r = float(input(\"Enter the radius of the hemisphere: \"))\n",
    "v = (2/3) * 3.142 * (r**3)\n",
    "print(f\"The volume of the hemisphere is {v: .3f}\")"
   ]
  },
  {
   "cell_type": "code",
   "execution_count": 11,
   "id": "27e4bfb3",
   "metadata": {},
   "outputs": [
    {
     "name": "stdout",
     "output_type": "stream",
     "text": [
      "38\n"
     ]
    }
   ],
   "source": [
    "a = 35\n",
    "b = 3\n",
    "a+=b\n",
    "print(a)\n",
    "\n"
   ]
  },
  {
   "cell_type": "code",
   "execution_count": 17,
   "id": "bb6e183c",
   "metadata": {},
   "outputs": [
    {
     "name": "stdout",
     "output_type": "stream",
     "text": [
      "True\n",
      "True\n",
      "False\n",
      "True\n",
      "True\n"
     ]
    }
   ],
   "source": [
    "a = 20\n",
    "b = 15 \n",
    "c = 20\n",
    "d = 35\n",
    "\n",
    "print(a > b)\n",
    "print(a == c)\n",
    "print(a <= b)\n",
    "print(a >= b)\n",
    "print(a != b)"
   ]
  },
  {
   "cell_type": "code",
   "execution_count": 18,
   "id": "7b9f9a78",
   "metadata": {},
   "outputs": [
    {
     "name": "stdout",
     "output_type": "stream",
     "text": [
      "True\n"
     ]
    }
   ],
   "source": [
    "print(a > b or b < a)\n",
    "print(a > b and b < a)"
   ]
  },
  {
   "cell_type": "code",
   "execution_count": 20,
   "id": "e05a6de7",
   "metadata": {},
   "outputs": [
    {
     "name": "stdout",
     "output_type": "stream",
     "text": [
      "Hello World Hello!\n",
      "World. This is a multiline string\n",
      "\n"
     ]
    }
   ],
   "source": [
    "#Single and double quotes\n",
    "string1 = 'Hello'\n",
    "string2 = \"World\"\n",
    "\n",
    "#Triple quotes for multiline strings\n",
    "string3 = \"\"\"Hello!\n",
    "World. This is a multiline string\n",
    "\"\"\"\n",
    "print(string1, string2, string3)"
   ]
  },
  {
   "cell_type": "code",
   "execution_count": 28,
   "id": "65dc7387",
   "metadata": {},
   "outputs": [
    {
     "name": "stdout",
     "output_type": "stream",
     "text": [
      "Hello Hello Hello  World\n"
     ]
    }
   ],
   "source": [
    "print(\"Hello\"+ \" \" + \"World\")"
   ]
  },
  {
   "cell_type": "code",
   "execution_count": 30,
   "id": "5831daa7",
   "metadata": {},
   "outputs": [
    {
     "name": "stdout",
     "output_type": "stream",
     "text": [
      " \n",
      "Hello World\n"
     ]
    }
   ],
   "source": [
    "greetings = \"Hello\"+ \" \" + \"World\"\n",
    "print(greetings[5])\n",
    "print(greetings[0:])"
   ]
  },
  {
   "cell_type": "code",
   "execution_count": 35,
   "id": "eafb9a50",
   "metadata": {},
   "outputs": [
    {
     "name": "stdout",
     "output_type": "stream",
     "text": [
      "125\n",
      "0.008\n",
      "-125\n",
      "2\n",
      "(1, 2)\n"
     ]
    }
   ],
   "source": [
    "'''First arguement = base, Second arguement = exponent'''\n",
    "print(pow(5, 3))\n",
    "print(pow(5,-3))\n",
    "print(pow(-5, 3))\n",
    "'''The 3rd arguement uses the modulo which in this case would be (2**3) % 3'''\n",
    "print(pow(2,3,3))\n",
    "'''divmod returns the quotient and the remainder'''\n",
    "print(divmod(5, 3))"
   ]
  },
  {
   "cell_type": "code",
   "execution_count": null,
   "id": "8895c2a7",
   "metadata": {},
   "outputs": [],
   "source": []
  }
 ],
 "metadata": {
  "kernelspec": {
   "display_name": "Python 3",
   "language": "python",
   "name": "python3"
  },
  "language_info": {
   "codemirror_mode": {
    "name": "ipython",
    "version": 3
   },
   "file_extension": ".py",
   "mimetype": "text/x-python",
   "name": "python",
   "nbconvert_exporter": "python",
   "pygments_lexer": "ipython3",
   "version": "3.13.0"
  }
 },
 "nbformat": 4,
 "nbformat_minor": 5
}
