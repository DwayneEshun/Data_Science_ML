{
 "cells": [
  {
   "cell_type": "markdown",
   "metadata": {},
   "source": [
    "Grading System That assigns corresponding grades to scores"
   ]
  },
  {
   "cell_type": "code",
   "execution_count": 24,
   "metadata": {},
   "outputs": [
    {
     "name": "stdout",
     "output_type": "stream",
     "text": [
      "Your grade is A+\n"
     ]
    }
   ],
   "source": [
    "number_of_your_courses = int(input(\"Enter the number of your courses: \"))\n",
    "for s in range(number_of_your_courses):\n",
    "    '''Grading system\n",
    "    85 and above == A+\n",
    "    80 and above == A\n",
    "    75 and above == B+\n",
    "    70 and above == B\n",
    "    65 and above == C+\n",
    "    60 and above == C\n",
    "    55 and above == D+\n",
    "    50 and above == D\n",
    "    below 50 == You have failed\n",
    "   using nested if \n",
    "'''\n",
    "    marks = float(input(\"Enter your marks: \"))\n",
    "    if marks > 100 or marks < 0:\n",
    "        print(\"Grade is invalid\")\n",
    "    elif marks >= 85:\n",
    "        print(\"Your grade is A+\")\n",
    "    elif marks >= 80:\n",
    "        print(\"Your grade is A\")\n",
    "    elif marks >= 75:\n",
    "        print(\"Your grade is B+\")\n",
    "    elif marks >= 70:\n",
    "        print(\"Your grade is B\")\n",
    "    elif marks >= 65:\n",
    "        print(\"Your grade is C+\")\n",
    "    elif marks >= 60:\n",
    "        print(\"Your grade is C\")\n",
    "    elif marks >= 55:\n",
    "        print(\"Your grade is D+\")\n",
    "    elif marks >= 50:\n",
    "        print(\"Your grade is D\")\n",
    "    else:\n",
    "        print(\"Fail\")\n",
    "\n",
    "\n"
   ]
  },
  {
   "cell_type": "markdown",
   "metadata": {},
   "source": [
    "System That Calculates GPA"
   ]
  },
  {
   "cell_type": "code",
   "execution_count": 63,
   "metadata": {},
   "outputs": [
    {
     "name": "stdout",
     "output_type": "stream",
     "text": [
      "Your GPA is:  4.3333\n"
     ]
    }
   ],
   "source": [
    "#Credit Hours: varies (User will specify)\n",
    "#Total Credit Hours: Sum of Credit hours\n",
    "#Grade Point: Points / 15 or 10 based on credit hours\n",
    "#Total Grade point: 5 * Total Credit hours\n",
    "#Number of courses.\n",
    "\n",
    "#What should I know from the user?\n",
    "courses = int(input('Enter the total number of course You study'))\n",
    "ch = []\n",
    "numerical_equivalence = []\n",
    "for i in range(courses):\n",
    "    credit_hours = int(input('Enter the credit hours of course ' + str(i+1)))\n",
    "    ch.append(credit_hours)\n",
    "    marks = float(input(\"Enter your marks: \"))\n",
    "    if marks > 100 or marks < 0:\n",
    "        print('Score Invalid')\n",
    "    elif marks >= 85:\n",
    "        numerical_equivalence.append(5)\n",
    "    elif marks >= 80:\n",
    "        numerical_equivalence.append(4.5)\n",
    "    elif marks >= 75:\n",
    "        numerical_equivalence.append(4)\n",
    "    elif marks >= 70:\n",
    "        numerical_equivalence.append(3.5)\n",
    "    elif marks >= 65:\n",
    "        numerical_equivalence.append(3)\n",
    "    elif marks >= 60:\n",
    "        numerical_equivalence.append(2.5)\n",
    "    elif marks >= 55:\n",
    "        numerical_equivalence.append(2)\n",
    "    elif marks >= 50:\n",
    "        numerical_equivalence.append(1.5)\n",
    "    else:\n",
    "        numerical_equivalence.append(0)\n",
    "\n",
    "\n",
    "point = [a * b for a, b in zip(numerical_equivalence, ch)]\n",
    "total_ch = sum(ch)\n",
    "max_gp = 5 * total_ch\n",
    "attained_gp = sum(point)\n",
    "\n",
    "gpa = attained_gp / total_ch\n",
    "print(\"Your GPA is: \", round(gpa, 4))\n",
    "\n",
    "\n",
    "\n",
    "\n",
    "\n",
    "\n",
    "\n"
   ]
  },
  {
   "cell_type": "code",
   "execution_count": null,
   "metadata": {},
   "outputs": [],
   "source": []
  },
  {
   "cell_type": "code",
   "execution_count": null,
   "metadata": {},
   "outputs": [],
   "source": []
  }
 ],
 "metadata": {
  "kernelspec": {
   "display_name": "Python 3",
   "language": "python",
   "name": "python3"
  },
  "language_info": {
   "codemirror_mode": {
    "name": "ipython",
    "version": 3
   },
   "file_extension": ".py",
   "mimetype": "text/x-python",
   "name": "python",
   "nbconvert_exporter": "python",
   "pygments_lexer": "ipython3",
   "version": "3.13.0"
  }
 },
 "nbformat": 4,
 "nbformat_minor": 2
}
