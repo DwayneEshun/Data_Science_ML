{
 "cells": [
  {
   "cell_type": "code",
   "execution_count": null,
   "metadata": {},
   "outputs": [],
   "source": [
    "import numpy as np\n",
    "import pandas as pd\n",
    "\n",
    "cancer = pd.read_csv(\"cancer.csv\")\n",
    "census = pd.read_csv(\"census.csv\")\n",
    "air = pd.read_excel(\"AirQualityUCI.xlsx\")\n",
    "#cancer.head(10)\n",
    "#cancer.shape\n",
    "#cancer.info()\n",
    "#census.dtypes\n",
    "#cancer.isnull().sum()\n",
    "#census.isnull().sum()\n",
    "#air.isnull().sum()\n",
    "#census.columns\n",
    "#census['STNAME'].unique()\n",
    "#census.CTYNAME.nunique()\n"
   ]
  },
  {
   "cell_type": "code",
   "execution_count": 49,
   "metadata": {},
   "outputs": [
    {
     "data": {
      "text/plain": [
       "Index(['SUMLEV', 'REGION', 'DIVISION', 'STATE', 'COUNTY', 'STNAME', 'CTYNAME',\n",
       "       'CENSUS2010POP', 'ESTIMATESBASE2010', 'POPESTIMATE2010',\n",
       "       'POPESTIMATE2011', 'POPESTIMATE2012', 'POPESTIMATE2013',\n",
       "       'POPESTIMATE2014', 'POPESTIMATE2015', 'NPOPCHG_2010', 'NPOPCHG_2011',\n",
       "       'NPOPCHG_2012', 'NPOPCHG_2013', 'NPOPCHG_2014', 'NPOPCHG_2015',\n",
       "       'BIRTHS2010', 'BIRTHS2011', 'BIRTHS2012', 'BIRTHS2013', 'BIRTHS2014',\n",
       "       'BIRTHS2015', 'DEATHS2010', 'DEATHS2011', 'DEATHS2012', 'DEATHS2013',\n",
       "       'DEATHS2014', 'DEATHS2015', 'NATURALINC2010', 'NATURALINC2011',\n",
       "       'NATURALINC2012', 'NATURALINC2013', 'NATURALINC2014', 'NATURALINC2015',\n",
       "       'INTERNATIONALMIG2010', 'INTERNATIONALMIG2011', 'INTERNATIONALMIG2012',\n",
       "       'INTERNATIONALMIG2013', 'INTERNATIONALMIG2014', 'INTERNATIONALMIG2015',\n",
       "       'DOMESTICMIG2010', 'DOMESTICMIG2011', 'DOMESTICMIG2012',\n",
       "       'DOMESTICMIG2013', 'DOMESTICMIG2014', 'DOMESTICMIG2015', 'NETMIG2010',\n",
       "       'NETMIG2011', 'NETMIG2012', 'NETMIG2013', 'NETMIG2014', 'NETMIG2015',\n",
       "       'RESIDUAL2010', 'RESIDUAL2011', 'RESIDUAL2012', 'RESIDUAL2013',\n",
       "       'RESIDUAL2014', 'RESIDUAL2015', 'GQESTIMATESBASE2010',\n",
       "       'GQESTIMATES2010', 'GQESTIMATES2011', 'GQESTIMATES2012',\n",
       "       'GQESTIMATES2013', 'GQESTIMATES2014', 'GQESTIMATES2015', 'RBIRTH2011',\n",
       "       'RBIRTH2012', 'RBIRTH2013', 'RBIRTH2014', 'RBIRTH2015', 'RDEATH2011',\n",
       "       'RDEATH2012', 'RDEATH2013', 'RDEATH2014', 'RDEATH2015',\n",
       "       'RNATURALINC2011', 'RNATURALINC2012', 'RNATURALINC2013',\n",
       "       'RNATURALINC2014', 'RNATURALINC2015', 'RINTERNATIONALMIG2011',\n",
       "       'RINTERNATIONALMIG2012', 'RINTERNATIONALMIG2013',\n",
       "       'RINTERNATIONALMIG2014', 'RINTERNATIONALMIG2015', 'RDOMESTICMIG2011',\n",
       "       'RDOMESTICMIG2012', 'RDOMESTICMIG2013', 'RDOMESTICMIG2014',\n",
       "       'RDOMESTICMIG2015', 'RNETMIG2011', 'RNETMIG2012', 'RNETMIG2013',\n",
       "       'RNETMIG2014', 'RNETMIG2015'],\n",
       "      dtype='object')"
      ]
     },
     "execution_count": 49,
     "metadata": {},
     "output_type": "execute_result"
    }
   ],
   "source": [
    "census.columns"
   ]
  },
  {
   "cell_type": "code",
   "execution_count": 51,
   "metadata": {},
   "outputs": [
    {
     "data": {
      "text/plain": [
       "STNAME\n",
       "Texas                   255\n",
       "Georgia                 160\n",
       "Virginia                134\n",
       "Kentucky                121\n",
       "Missouri                116\n",
       "Kansas                  106\n",
       "Illinois                103\n",
       "North Carolina          101\n",
       "Iowa                    100\n",
       "Tennessee                96\n",
       "Nebraska                 94\n",
       "Indiana                  93\n",
       "Ohio                     89\n",
       "Minnesota                88\n",
       "Michigan                 84\n",
       "Mississippi              83\n",
       "Oklahoma                 78\n",
       "Arkansas                 76\n",
       "Wisconsin                73\n",
       "Pennsylvania             68\n",
       "Alabama                  68\n",
       "Florida                  68\n",
       "South Dakota             67\n",
       "Louisiana                65\n",
       "Colorado                 65\n",
       "New York                 63\n",
       "California               59\n",
       "Montana                  57\n",
       "West Virginia            56\n",
       "North Dakota             54\n",
       "South Carolina           47\n",
       "Idaho                    45\n",
       "Washington               40\n",
       "Oregon                   37\n",
       "New Mexico               34\n",
       "Utah                     30\n",
       "Alaska                   30\n",
       "Maryland                 25\n",
       "Wyoming                  24\n",
       "New Jersey               22\n",
       "Nevada                   18\n",
       "Maine                    17\n",
       "Arizona                  16\n",
       "Vermont                  15\n",
       "Massachusetts            15\n",
       "New Hampshire            11\n",
       "Connecticut               9\n",
       "Hawaii                    6\n",
       "Rhode Island              6\n",
       "Delaware                  4\n",
       "District of Columbia      2\n",
       "Name: count, dtype: int64"
      ]
     },
     "execution_count": 51,
     "metadata": {},
     "output_type": "execute_result"
    }
   ],
   "source": [
    "census.STNAME.value_counts()"
   ]
  },
  {
   "cell_type": "code",
   "execution_count": 70,
   "metadata": {},
   "outputs": [
    {
     "data": {
      "text/plain": [
       "CTYNAME\n",
       "Niobrara County     1\n",
       "Colbert County      1\n",
       "Conecuh County      1\n",
       "Coosa County        1\n",
       "Castro County       1\n",
       "Crenshaw County     1\n",
       "Cullman County      1\n",
       "Dale County         1\n",
       "Childress County    1\n",
       "Cochran County      1\n",
       "Name: count, dtype: int64"
      ]
     },
     "execution_count": 70,
     "metadata": {},
     "output_type": "execute_result"
    }
   ],
   "source": [
    "census.CTYNAME.value_counts(ascending = True ).head(10)"
   ]
  },
  {
   "cell_type": "code",
   "execution_count": 61,
   "metadata": {},
   "outputs": [
    {
     "data": {
      "text/plain": [
       "CTYNAME\n",
       "Pepin County          1\n",
       "Price County          1\n",
       "Racine County         1\n",
       "St. Croix County      1\n",
       "Sauk County           1\n",
       "Sawyer County         1\n",
       "Shawano County        1\n",
       "Sheboygan County      1\n",
       "Trempealeau County    1\n",
       "Refugio County        1\n",
       "Name: count, dtype: int64"
      ]
     },
     "execution_count": 61,
     "metadata": {},
     "output_type": "execute_result"
    }
   ],
   "source": [
    "census.CTYNAME.value_counts().tail(10)"
   ]
  },
  {
   "cell_type": "code",
   "execution_count": null,
   "metadata": {},
   "outputs": [],
   "source": []
  }
 ],
 "metadata": {
  "kernelspec": {
   "display_name": "Python 3",
   "language": "python",
   "name": "python3"
  },
  "language_info": {
   "codemirror_mode": {
    "name": "ipython",
    "version": 3
   },
   "file_extension": ".py",
   "mimetype": "text/x-python",
   "name": "python",
   "nbconvert_exporter": "python",
   "pygments_lexer": "ipython3",
   "version": "3.13.0"
  }
 },
 "nbformat": 4,
 "nbformat_minor": 2
}
